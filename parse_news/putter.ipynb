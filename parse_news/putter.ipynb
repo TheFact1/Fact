{
 "cells": [
  {
   "cell_type": "code",
   "execution_count": 1,
   "id": "7e7fa783-3b22-43df-b8f0-deaccf03e975",
   "metadata": {},
   "outputs": [],
   "source": [
    "from src_news.CNBC_parser import CNBC_parser\n",
    "from src_news.RBC_parser import RBC_parser"
   ]
  },
  {
   "cell_type": "code",
   "execution_count": null,
   "id": "f00c18a8-0fb1-4f08-8e05-27cbc6846c28",
   "metadata": {
    "scrolled": true,
    "tags": []
   },
   "outputs": [],
   "source": [
    "# from ..app.db.repositories import News, session_scope\n",
    "\n",
    "\n",
    "active_parsers=[CNBC_parser(),RBC_parser()]\n",
    "\n",
    "\n",
    "\n",
    "if __name__ == \"__main__\":\n",
    "    # for obj_parser in active_parsers:\n",
    "    obj_parser=active_parsers[0]\n",
    "    capsula=obj_parser.set_sapsules_news.get_set_capsules()\n",
    "\n"
   ]
  },
  {
   "cell_type": "markdown",
   "id": "e94a8be5-afb5-4cd3-801f-cb039033fa63",
   "metadata": {},
   "source": [
    "# Write to file"
   ]
  },
  {
   "cell_type": "code",
   "execution_count": null,
   "id": "0f3b7e8a-69aa-42ce-901a-9d46529314c8",
   "metadata": {},
   "outputs": [],
   "source": [
    "import pickle\n",
    "with open('CNBC_parser.pkl', 'wb') as fp:\n",
    "    pickle.dump(active_parsers[0],fp)"
   ]
  },
  {
   "cell_type": "code",
   "execution_count": null,
   "id": "2a98a496-4322-4482-befe-edb2e0196b35",
   "metadata": {},
   "outputs": [],
   "source": [
    "import pickle\n",
    "with open('RBC_parser.pkl', 'wb') as fp:\n",
    "    pickle.dump(active_parsers[1], fp)"
   ]
  },
  {
   "cell_type": "markdown",
   "id": "ad545889-26d6-4659-870a-bdcd33711911",
   "metadata": {},
   "source": [
    "# Read to file"
   ]
  },
  {
   "cell_type": "code",
   "execution_count": 2,
   "id": "2aabe26f-d21c-4fd1-bfd8-508bed91e374",
   "metadata": {},
   "outputs": [],
   "source": [
    "import pickle\n",
    "with open('CNBC_parser.pkl', 'rb') as fp:\n",
    "    CNBC_parser_instance = pickle.load(fp)\n",
    "\n",
    "with open('RBC_parser.pkl', 'rb') as fp:\n",
    "    RBC_parser_instance = pickle.load(fp)"
   ]
  },
  {
   "cell_type": "code",
   "execution_count": 7,
   "id": "f808cb0b-14c2-4a6c-8913-88e8bd458cb2",
   "metadata": {},
   "outputs": [
    {
     "data": {
      "text/plain": [
       "<utils.utils.Capsule_news at 0x10830a4a0>"
      ]
     },
     "execution_count": 7,
     "metadata": {},
     "output_type": "execute_result"
    }
   ],
   "source": [
    "capsules=CNBC_parser_instance.set_sapsules_news.get_set_capsules()\n",
    "capsula=capsules[0]\n",
    "capsula"
   ]
  },
  {
   "cell_type": "code",
   "execution_count": 8,
   "id": "9380b333-ba1a-4778-875c-06486b0b3bfd",
   "metadata": {
    "scrolled": true,
    "tags": []
   },
   "outputs": [
    {
     "name": "stdout",
     "output_type": "stream",
     "text": [
      "type(news_capsule) <class 'utils.utils.Capsule_news'>\n",
      "\n",
      "\n",
      "capsula.link:  https://www.cnbc.com/2022/09/08/coinbase-bankrolls-suit-against-treasury-department-following-tornado-cash-sanctions.html \n",
      "\n",
      "capsula.title Coinbase bankrolls lawsuit against Treasury Department following Tornado Cash sanctions \n",
      "\n",
      "capsula.article_text [In this articleCOINBrian Armstrong, CEO and Co-Founder, Coinbase, speaks during the Milken Institute Global Conference on May 2, 2022. in Beverly Hills, California.Patrick T. Fallon | AFP | Getty ImagesCoinbase is footing the bill for a lawsuit filed against the Treasury Department Thursday by users of the recently sanctioned crypto service, Tornado Cash.The six plaintiffs include Coinbase employees and other users of the mixing service that was blacklisted by the Treasury's Office of Foreign Assets Control (OFAC) in August.Mixing services like Tornado Cash are used to obfuscate crypto transactions, which while anonymous, are easily traceable. The Treasury Department argued this particular service was used to launder more than $7 billion worth of digital currency in the past three years by North Korean hackers and other bad actors.But in some cases, mixing services are used for legitimate privacy reasons. One plaintiff, a senior security risk analyst at Coinbase, used the service to anonymize donations to Ukraine out of fear his address would be targeted by Russian hacking groups. Another had concerns about his family's security.\"Each is an American who simply wants to engage in entirely lawful activity in private,\" according to the lawsuit.The sanctions were a unique move by Treasury to blacklist open source software, versus an entity or person. Crypto enthusiasts have argued that the move was an overstep, sets a new legal precedent and could cause negative ripple effects for the tech industry.\"We saw this as a much larger problem,\" Coinbase's chief legal officer, Paul Grewal, told CNBC. \"It sets a dangerous precedent -- if this code can be designated without any limits imposed by law, any technology any tool or system could be fair game.\"Grewal, former deputy general counsel at Facebook, said it could have a chilling effect on innovation. He likened the Tornado Cash scenario to police chasing armed robbers on a highway. In order to catch the criminals, \"we wouldn't ban all use of that highway.\" Grewal said it was the first time Coinbase has financially supported an external lawsuit and plans to pay for the plaintiffs' lawyers, as well as other costs associated with pursuing the claims in federal court.Thursday's suit argues that the move went a step beyond Treasury's authority, and as Coinbase put it in a blog post uses \"a hammer instead of a scalpel.\" The plaintiffs argue it caused financial harm as their money is still locked on Tornado Cash, and hurt users relying on the tools for privacy reasons. The case asks the Court to remove Tornado Cash smart contracts from the U.S. sanctions list.Coinbase is the largest U.S. crypto exchange by trading volume and has publicly advocated for crypto reforms in Washington, while dealing with a series of recent SEC probes. The Securities and Exchange Commission recently requested information from Coinbase about the listing of cryptocurrencies that the agency argues may have been unregistered securities. The SEC is also looking into its crypto rewards program, known as staking.\"We have advocated for regulatory reform across Washington and that work will continue,\" Grewal said. \"We can continue to cooperate and partner with the agencies that are being challenged in this instance, because this is not about questioning anyone's good faith, but it is about assuring that the rule of law applies.\"] \n",
      "\n",
      "capsula.image_link https://image.cnbcfm.com/api/v1/image/107095591-16590312982022-07-28t175817z_1918541100_rc25lv9ne9f6_rtrmadp_0_usa-treasury-yellen.jpeg?v=1659031322 \n",
      "\n",
      "capsula.category  \n",
      "\n"
     ]
    }
   ],
   "source": [
    "\n",
    "print(\"type(news_capsule)\",type(capsula))\n",
    "print(\"\\n\")\n",
    "print(\"capsula.link: \", capsula.link, \"\\n\")\n",
    "print(\"capsula.title\", capsula.title, \"\\n\")\n",
    "print(\"capsula.article_text\", capsula.article_text, \"\\n\")\n",
    "print(\"capsula.image_link\",capsula.image_link, \"\\n\")  \n",
    "print(\"capsula.category\",capsula.category, \"\\n\") "
   ]
  },
  {
   "cell_type": "code",
   "execution_count": null,
   "id": "12623a9a-672f-42c5-ad22-2c9ae7884d5c",
   "metadata": {},
   "outputs": [],
   "source": []
  }
 ],
 "metadata": {
  "kernelspec": {
   "display_name": "venv_news_parse",
   "language": "python",
   "name": "venv_news_parse"
  },
  "language_info": {
   "codemirror_mode": {
    "name": "ipython",
    "version": 3
   },
   "file_extension": ".py",
   "mimetype": "text/x-python",
   "name": "python",
   "nbconvert_exporter": "python",
   "pygments_lexer": "ipython3",
   "version": "3.10.6"
  }
 },
 "nbformat": 4,
 "nbformat_minor": 5
}
