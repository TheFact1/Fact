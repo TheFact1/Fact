{
 "cells": [
  {
   "cell_type": "code",
   "execution_count": 1,
   "metadata": {},
   "outputs": [],
   "source": [
    "import pandas as pd\n",
    "from collections import Counter\n",
    "import json\n",
    "import joblib\n",
    "\n",
    "from sklearn.preprocessing import MultiLabelBinarizer\n",
    "from sklearn.feature_extraction.text import TfidfVectorizer\n",
    "from sklearn.linear_model import LogisticRegression\n",
    "from sklearn.pipeline import Pipeline\n",
    "from sklearn.multioutput import MultiOutputClassifier\n",
    "from sklearn.ensemble import RandomForestClassifier\n",
    "from sklearn.metrics import classification_report, multilabel_confusion_matrix\n",
    "from sklearn.model_selection import train_test_split\n",
    "\n",
    "from nltk.tokenize import word_tokenize\n",
    "from nltk.stem import PorterStemmer"
   ]
  },
  {
   "cell_type": "code",
   "execution_count": 2,
   "metadata": {},
   "outputs": [],
   "source": [
    "df = pd.read_excel(\n",
    "    \"../data/news_categories.xlsx\",\n",
    "    engine=\"openpyxl\",\n",
    ")"
   ]
  },
  {
   "cell_type": "code",
   "execution_count": 3,
   "metadata": {},
   "outputs": [
    {
     "data": {
      "text/plain": [
       "(160, 5)"
      ]
     },
     "execution_count": 3,
     "metadata": {},
     "output_type": "execute_result"
    }
   ],
   "source": [
    "df.shape"
   ]
  },
  {
   "cell_type": "code",
   "execution_count": 4,
   "metadata": {},
   "outputs": [
    {
     "data": {
      "text/html": [
       "<div>\n",
       "<style scoped>\n",
       "    .dataframe tbody tr th:only-of-type {\n",
       "        vertical-align: middle;\n",
       "    }\n",
       "\n",
       "    .dataframe tbody tr th {\n",
       "        vertical-align: top;\n",
       "    }\n",
       "\n",
       "    .dataframe thead th {\n",
       "        text-align: right;\n",
       "    }\n",
       "</style>\n",
       "<table border=\"1\" class=\"dataframe\">\n",
       "  <thead>\n",
       "    <tr style=\"text-align: right;\">\n",
       "      <th></th>\n",
       "      <th>Title</th>\n",
       "      <th>Content</th>\n",
       "      <th>Link</th>\n",
       "      <th>Photo</th>\n",
       "      <th>Category</th>\n",
       "    </tr>\n",
       "  </thead>\n",
       "  <tbody>\n",
       "    <tr>\n",
       "      <th>0</th>\n",
       "      <td>Bitcoin battles whales above $22K as BTC price...</td>\n",
       "      <td>Bitcoin bulls are now attacking the “final” ma...</td>\n",
       "      <td>https://cointelegraph.com/news/bitcoin-battles...</td>\n",
       "      <td>https://ibb.co/Mp2t3t0</td>\n",
       "      <td>Bitcoin</td>\n",
       "    </tr>\n",
       "    <tr>\n",
       "      <th>1</th>\n",
       "      <td>How to Buy Bitcoin: A Guide to Investing in th...</td>\n",
       "      <td>One minute Bitcoin’s price is up. The next it’...</td>\n",
       "      <td>https://www.bloomberg.com/news/articles/2020-1...</td>\n",
       "      <td>https://ibb.co/NtkBVP3</td>\n",
       "      <td>Bitcoin</td>\n",
       "    </tr>\n",
       "    <tr>\n",
       "      <th>2</th>\n",
       "      <td>More Than Half Of All Bitcoin Trades Are Fake</td>\n",
       "      <td>A new Forbes analysis of 157 crypto exchanges ...</td>\n",
       "      <td>https://www.forbes.com/sites/javierpaz/2022/08...</td>\n",
       "      <td>https://ibb.co/27FGtgP</td>\n",
       "      <td>Bitcoin</td>\n",
       "    </tr>\n",
       "    <tr>\n",
       "      <th>3</th>\n",
       "      <td>Bitcoin hits 3-week high as trader says 'all s...</td>\n",
       "      <td>Bitcoin (BTC) kept grinding higher at the Sept...</td>\n",
       "      <td>https://cointelegraph.com/news/bitcoin-hits-3-...</td>\n",
       "      <td>https://ibb.co/bLKdXLt</td>\n",
       "      <td>Bitcoin</td>\n",
       "    </tr>\n",
       "    <tr>\n",
       "      <th>4</th>\n",
       "      <td>How Much Does It Cost to Mine 1 Bitcoin?</td>\n",
       "      <td>JPMorgan strategists may have just called Bitc...</td>\n",
       "      <td>https://decrypt.co/105251/how-much-does-cost-m...</td>\n",
       "      <td>https://ibb.co/bQBgWKC</td>\n",
       "      <td>Bitcoin</td>\n",
       "    </tr>\n",
       "  </tbody>\n",
       "</table>\n",
       "</div>"
      ],
      "text/plain": [
       "                                               Title  \\\n",
       "0  Bitcoin battles whales above $22K as BTC price...   \n",
       "1  How to Buy Bitcoin: A Guide to Investing in th...   \n",
       "2      More Than Half Of All Bitcoin Trades Are Fake   \n",
       "3  Bitcoin hits 3-week high as trader says 'all s...   \n",
       "4           How Much Does It Cost to Mine 1 Bitcoin?   \n",
       "\n",
       "                                             Content  \\\n",
       "0  Bitcoin bulls are now attacking the “final” ma...   \n",
       "1  One minute Bitcoin’s price is up. The next it’...   \n",
       "2  A new Forbes analysis of 157 crypto exchanges ...   \n",
       "3  Bitcoin (BTC) kept grinding higher at the Sept...   \n",
       "4  JPMorgan strategists may have just called Bitc...   \n",
       "\n",
       "                                                Link                   Photo  \\\n",
       "0  https://cointelegraph.com/news/bitcoin-battles...  https://ibb.co/Mp2t3t0   \n",
       "1  https://www.bloomberg.com/news/articles/2020-1...  https://ibb.co/NtkBVP3   \n",
       "2  https://www.forbes.com/sites/javierpaz/2022/08...  https://ibb.co/27FGtgP   \n",
       "3  https://cointelegraph.com/news/bitcoin-hits-3-...  https://ibb.co/bLKdXLt   \n",
       "4  https://decrypt.co/105251/how-much-does-cost-m...  https://ibb.co/bQBgWKC   \n",
       "\n",
       "  Category  \n",
       "0  Bitcoin  \n",
       "1  Bitcoin  \n",
       "2  Bitcoin  \n",
       "3  Bitcoin  \n",
       "4  Bitcoin  "
      ]
     },
     "execution_count": 4,
     "metadata": {},
     "output_type": "execute_result"
    }
   ],
   "source": [
    "df.head()"
   ]
  },
  {
   "cell_type": "code",
   "execution_count": 5,
   "metadata": {},
   "outputs": [
    {
     "data": {
      "text/html": [
       "<div>\n",
       "<style scoped>\n",
       "    .dataframe tbody tr th:only-of-type {\n",
       "        vertical-align: middle;\n",
       "    }\n",
       "\n",
       "    .dataframe tbody tr th {\n",
       "        vertical-align: top;\n",
       "    }\n",
       "\n",
       "    .dataframe thead th {\n",
       "        text-align: right;\n",
       "    }\n",
       "</style>\n",
       "<table border=\"1\" class=\"dataframe\">\n",
       "  <thead>\n",
       "    <tr style=\"text-align: right;\">\n",
       "      <th></th>\n",
       "      <th>Title</th>\n",
       "      <th>Content</th>\n",
       "      <th>Link</th>\n",
       "      <th>Photo</th>\n",
       "      <th>Category</th>\n",
       "    </tr>\n",
       "  </thead>\n",
       "  <tbody>\n",
       "    <tr>\n",
       "      <th>155</th>\n",
       "      <td>\"Vitalik Buterin Scam\" Hits Verified Account o...</td>\n",
       "      <td>The closer we get to the transition of Ethereu...</td>\n",
       "      <td>https://u.today/vitalik-buterin-scam-hits-veri...</td>\n",
       "      <td>https://ibb.co/jW3HcWk</td>\n",
       "      <td>Others</td>\n",
       "    </tr>\n",
       "    <tr>\n",
       "      <th>156</th>\n",
       "      <td>Crypto Tracer Elliptic Hires SaaS Veteran Jack...</td>\n",
       "      <td>Blockchain analytics company Elliptic on Thurs...</td>\n",
       "      <td>https://www.coindesk.com/business/2022/09/08/c...</td>\n",
       "      <td>https://ibb.co/Qn3L7ph</td>\n",
       "      <td>Others</td>\n",
       "    </tr>\n",
       "    <tr>\n",
       "      <th>157</th>\n",
       "      <td>Former Deutsche Bank Executive and Ex-OCC Chie...</td>\n",
       "      <td>The former head of the Office of the Comptroll...</td>\n",
       "      <td>https://dailyhodl.com/2022/09/07/former-deutsc...</td>\n",
       "      <td>https://ibb.co/PspjKTq</td>\n",
       "      <td>Others</td>\n",
       "    </tr>\n",
       "    <tr>\n",
       "      <th>158</th>\n",
       "      <td>Russian Millionaire’s Startup Plans Ruble Stab...</td>\n",
       "      <td>Alexander Lebedev, the former owner of Russia’...</td>\n",
       "      <td>https://www.coindesk.com/business/2022/09/14/r...</td>\n",
       "      <td>https://ibb.co/p0hFfQ4</td>\n",
       "      <td>Others</td>\n",
       "    </tr>\n",
       "    <tr>\n",
       "      <th>159</th>\n",
       "      <td>Celsius Resembled Ponzi Scheme at Times, Vermo...</td>\n",
       "      <td>Crypto lender Celsius Network misled investors...</td>\n",
       "      <td>https://www.coindesk.com/policy/2022/09/07/cel...</td>\n",
       "      <td>https://ibb.co/kVTKKT3</td>\n",
       "      <td>Others</td>\n",
       "    </tr>\n",
       "  </tbody>\n",
       "</table>\n",
       "</div>"
      ],
      "text/plain": [
       "                                                 Title  \\\n",
       "155  \"Vitalik Buterin Scam\" Hits Verified Account o...   \n",
       "156  Crypto Tracer Elliptic Hires SaaS Veteran Jack...   \n",
       "157  Former Deutsche Bank Executive and Ex-OCC Chie...   \n",
       "158  Russian Millionaire’s Startup Plans Ruble Stab...   \n",
       "159  Celsius Resembled Ponzi Scheme at Times, Vermo...   \n",
       "\n",
       "                                               Content  \\\n",
       "155  The closer we get to the transition of Ethereu...   \n",
       "156  Blockchain analytics company Elliptic on Thurs...   \n",
       "157  The former head of the Office of the Comptroll...   \n",
       "158  Alexander Lebedev, the former owner of Russia’...   \n",
       "159  Crypto lender Celsius Network misled investors...   \n",
       "\n",
       "                                                  Link  \\\n",
       "155  https://u.today/vitalik-buterin-scam-hits-veri...   \n",
       "156  https://www.coindesk.com/business/2022/09/08/c...   \n",
       "157  https://dailyhodl.com/2022/09/07/former-deutsc...   \n",
       "158  https://www.coindesk.com/business/2022/09/14/r...   \n",
       "159  https://www.coindesk.com/policy/2022/09/07/cel...   \n",
       "\n",
       "                      Photo Category  \n",
       "155  https://ibb.co/jW3HcWk   Others  \n",
       "156  https://ibb.co/Qn3L7ph   Others  \n",
       "157  https://ibb.co/PspjKTq   Others  \n",
       "158  https://ibb.co/p0hFfQ4   Others  \n",
       "159  https://ibb.co/kVTKKT3   Others  "
      ]
     },
     "execution_count": 5,
     "metadata": {},
     "output_type": "execute_result"
    }
   ],
   "source": [
    "df.tail()"
   ]
  },
  {
   "cell_type": "code",
   "execution_count": 6,
   "metadata": {},
   "outputs": [
    {
     "data": {
      "text/plain": [
       "Title       0\n",
       "Content     0\n",
       "Link        0\n",
       "Photo       0\n",
       "Category    0\n",
       "dtype: int64"
      ]
     },
     "execution_count": 6,
     "metadata": {},
     "output_type": "execute_result"
    }
   ],
   "source": [
    "df.isnull().sum()"
   ]
  },
  {
   "cell_type": "code",
   "execution_count": 7,
   "metadata": {},
   "outputs": [],
   "source": [
    "df[\"Category\"] = df[\"Category\"].apply(\n",
    "    lambda cats: sorted(\n",
    "        [cat.strip() for cat in cats.split(\",\")]\n",
    "    )\n",
    ")"
   ]
  },
  {
   "cell_type": "code",
   "execution_count": 8,
   "metadata": {},
   "outputs": [
    {
     "data": {
      "text/plain": [
       "(Bitcoin,)                      20\n",
       "(Others,)                       19\n",
       "(Gaming,)                       18\n",
       "(Regulations,)                  18\n",
       "(NFT,)                          18\n",
       "(Blockchain,)                   16\n",
       "(Defi,)                         15\n",
       "(Altcoins, Blockchain)          13\n",
       "(Altcoins,)                     11\n",
       "(Blockchain, Defi)               2\n",
       "(Blockchain, NFT)                2\n",
       "(Altcoins, Blockchain, Defi)     1\n",
       "(Altcoins, Defi, NFT)            1\n",
       "(Altcoins, Defi)                 1\n",
       "(Altcoins, Gaming)               1\n",
       "(Blockchain, Gaming)             1\n",
       "(Gaming, NFT)                    1\n",
       "(Bitcoin, Regulations)           1\n",
       "(Altcoins, Others)               1\n",
       "Name: Category, dtype: int64"
      ]
     },
     "execution_count": 8,
     "metadata": {},
     "output_type": "execute_result"
    }
   ],
   "source": [
    "df[\"Category\"].apply(lambda x: tuple(sorted(x))).value_counts()"
   ]
  },
  {
   "cell_type": "code",
   "execution_count": 9,
   "metadata": {},
   "outputs": [
    {
     "data": {
      "text/plain": [
       "[('Blockchain', 35),\n",
       " ('Altcoins', 29),\n",
       " ('NFT', 22),\n",
       " ('Bitcoin', 21),\n",
       " ('Gaming', 21),\n",
       " ('Defi', 20),\n",
       " ('Others', 20),\n",
       " ('Regulations', 19)]"
      ]
     },
     "execution_count": 9,
     "metadata": {},
     "output_type": "execute_result"
    }
   ],
   "source": [
    "Counter(\n",
    "    [cat for cats in df[\"Category\"].tolist() for cat in cats]\n",
    ").most_common()"
   ]
  },
  {
   "cell_type": "markdown",
   "metadata": {},
   "source": [
    "---"
   ]
  },
  {
   "cell_type": "code",
   "execution_count": 10,
   "metadata": {},
   "outputs": [],
   "source": [
    "df_explode = df.explode(\"Category\").copy()"
   ]
  },
  {
   "cell_type": "code",
   "execution_count": 11,
   "metadata": {},
   "outputs": [
    {
     "data": {
      "text/plain": [
       "(187, 5)"
      ]
     },
     "execution_count": 11,
     "metadata": {},
     "output_type": "execute_result"
    }
   ],
   "source": [
    "df_explode.shape"
   ]
  },
  {
   "cell_type": "code",
   "execution_count": 12,
   "metadata": {},
   "outputs": [
    {
     "data": {
      "text/html": [
       "<div>\n",
       "<style scoped>\n",
       "    .dataframe tbody tr th:only-of-type {\n",
       "        vertical-align: middle;\n",
       "    }\n",
       "\n",
       "    .dataframe tbody tr th {\n",
       "        vertical-align: top;\n",
       "    }\n",
       "\n",
       "    .dataframe thead th {\n",
       "        text-align: right;\n",
       "    }\n",
       "</style>\n",
       "<table border=\"1\" class=\"dataframe\">\n",
       "  <thead>\n",
       "    <tr style=\"text-align: right;\">\n",
       "      <th></th>\n",
       "      <th>Title</th>\n",
       "      <th>Content</th>\n",
       "      <th>Link</th>\n",
       "      <th>Photo</th>\n",
       "      <th>Category</th>\n",
       "    </tr>\n",
       "  </thead>\n",
       "  <tbody>\n",
       "    <tr>\n",
       "      <th>0</th>\n",
       "      <td>Bitcoin battles whales above $22K as BTC price...</td>\n",
       "      <td>Bitcoin bulls are now attacking the “final” ma...</td>\n",
       "      <td>https://cointelegraph.com/news/bitcoin-battles...</td>\n",
       "      <td>https://ibb.co/Mp2t3t0</td>\n",
       "      <td>Bitcoin</td>\n",
       "    </tr>\n",
       "    <tr>\n",
       "      <th>1</th>\n",
       "      <td>How to Buy Bitcoin: A Guide to Investing in th...</td>\n",
       "      <td>One minute Bitcoin’s price is up. The next it’...</td>\n",
       "      <td>https://www.bloomberg.com/news/articles/2020-1...</td>\n",
       "      <td>https://ibb.co/NtkBVP3</td>\n",
       "      <td>Bitcoin</td>\n",
       "    </tr>\n",
       "    <tr>\n",
       "      <th>2</th>\n",
       "      <td>More Than Half Of All Bitcoin Trades Are Fake</td>\n",
       "      <td>A new Forbes analysis of 157 crypto exchanges ...</td>\n",
       "      <td>https://www.forbes.com/sites/javierpaz/2022/08...</td>\n",
       "      <td>https://ibb.co/27FGtgP</td>\n",
       "      <td>Bitcoin</td>\n",
       "    </tr>\n",
       "    <tr>\n",
       "      <th>3</th>\n",
       "      <td>Bitcoin hits 3-week high as trader says 'all s...</td>\n",
       "      <td>Bitcoin (BTC) kept grinding higher at the Sept...</td>\n",
       "      <td>https://cointelegraph.com/news/bitcoin-hits-3-...</td>\n",
       "      <td>https://ibb.co/bLKdXLt</td>\n",
       "      <td>Bitcoin</td>\n",
       "    </tr>\n",
       "    <tr>\n",
       "      <th>4</th>\n",
       "      <td>How Much Does It Cost to Mine 1 Bitcoin?</td>\n",
       "      <td>JPMorgan strategists may have just called Bitc...</td>\n",
       "      <td>https://decrypt.co/105251/how-much-does-cost-m...</td>\n",
       "      <td>https://ibb.co/bQBgWKC</td>\n",
       "      <td>Bitcoin</td>\n",
       "    </tr>\n",
       "  </tbody>\n",
       "</table>\n",
       "</div>"
      ],
      "text/plain": [
       "                                               Title  \\\n",
       "0  Bitcoin battles whales above $22K as BTC price...   \n",
       "1  How to Buy Bitcoin: A Guide to Investing in th...   \n",
       "2      More Than Half Of All Bitcoin Trades Are Fake   \n",
       "3  Bitcoin hits 3-week high as trader says 'all s...   \n",
       "4           How Much Does It Cost to Mine 1 Bitcoin?   \n",
       "\n",
       "                                             Content  \\\n",
       "0  Bitcoin bulls are now attacking the “final” ma...   \n",
       "1  One minute Bitcoin’s price is up. The next it’...   \n",
       "2  A new Forbes analysis of 157 crypto exchanges ...   \n",
       "3  Bitcoin (BTC) kept grinding higher at the Sept...   \n",
       "4  JPMorgan strategists may have just called Bitc...   \n",
       "\n",
       "                                                Link                   Photo  \\\n",
       "0  https://cointelegraph.com/news/bitcoin-battles...  https://ibb.co/Mp2t3t0   \n",
       "1  https://www.bloomberg.com/news/articles/2020-1...  https://ibb.co/NtkBVP3   \n",
       "2  https://www.forbes.com/sites/javierpaz/2022/08...  https://ibb.co/27FGtgP   \n",
       "3  https://cointelegraph.com/news/bitcoin-hits-3-...  https://ibb.co/bLKdXLt   \n",
       "4  https://decrypt.co/105251/how-much-does-cost-m...  https://ibb.co/bQBgWKC   \n",
       "\n",
       "  Category  \n",
       "0  Bitcoin  \n",
       "1  Bitcoin  \n",
       "2  Bitcoin  \n",
       "3  Bitcoin  \n",
       "4  Bitcoin  "
      ]
     },
     "execution_count": 12,
     "metadata": {},
     "output_type": "execute_result"
    }
   ],
   "source": [
    "df_explode.head()"
   ]
  },
  {
   "cell_type": "code",
   "execution_count": 13,
   "metadata": {},
   "outputs": [],
   "source": [
    "rule_categories_match = df_explode.apply(\n",
    "    lambda row: row[\"Category\"].lower() in row[\"Title\"].lower(),\n",
    "    axis=1\n",
    ")\n",
    "rule_categories_match.name = \"Match\""
   ]
  },
  {
   "cell_type": "code",
   "execution_count": 14,
   "metadata": {},
   "outputs": [
    {
     "data": {
      "text/plain": [
       "0.3155080213903743"
      ]
     },
     "execution_count": 14,
     "metadata": {},
     "output_type": "execute_result"
    }
   ],
   "source": [
    "rule_categories_match.mean()"
   ]
  },
  {
   "cell_type": "code",
   "execution_count": 15,
   "metadata": {},
   "outputs": [
    {
     "data": {
      "text/html": [
       "<div>\n",
       "<style scoped>\n",
       "    .dataframe tbody tr th:only-of-type {\n",
       "        vertical-align: middle;\n",
       "    }\n",
       "\n",
       "    .dataframe tbody tr th {\n",
       "        vertical-align: top;\n",
       "    }\n",
       "\n",
       "    .dataframe thead th {\n",
       "        text-align: right;\n",
       "    }\n",
       "</style>\n",
       "<table border=\"1\" class=\"dataframe\">\n",
       "  <thead>\n",
       "    <tr style=\"text-align: right;\">\n",
       "      <th>Match</th>\n",
       "      <th>False</th>\n",
       "      <th>True</th>\n",
       "    </tr>\n",
       "    <tr>\n",
       "      <th>Category</th>\n",
       "      <th></th>\n",
       "      <th></th>\n",
       "    </tr>\n",
       "  </thead>\n",
       "  <tbody>\n",
       "    <tr>\n",
       "      <th>Altcoins</th>\n",
       "      <td>29</td>\n",
       "      <td>0</td>\n",
       "    </tr>\n",
       "    <tr>\n",
       "      <th>Bitcoin</th>\n",
       "      <td>0</td>\n",
       "      <td>21</td>\n",
       "    </tr>\n",
       "    <tr>\n",
       "      <th>Blockchain</th>\n",
       "      <td>32</td>\n",
       "      <td>3</td>\n",
       "    </tr>\n",
       "    <tr>\n",
       "      <th>Defi</th>\n",
       "      <td>8</td>\n",
       "      <td>12</td>\n",
       "    </tr>\n",
       "    <tr>\n",
       "      <th>Gaming</th>\n",
       "      <td>20</td>\n",
       "      <td>1</td>\n",
       "    </tr>\n",
       "    <tr>\n",
       "      <th>NFT</th>\n",
       "      <td>2</td>\n",
       "      <td>20</td>\n",
       "    </tr>\n",
       "    <tr>\n",
       "      <th>Others</th>\n",
       "      <td>20</td>\n",
       "      <td>0</td>\n",
       "    </tr>\n",
       "    <tr>\n",
       "      <th>Regulations</th>\n",
       "      <td>17</td>\n",
       "      <td>2</td>\n",
       "    </tr>\n",
       "  </tbody>\n",
       "</table>\n",
       "</div>"
      ],
      "text/plain": [
       "Match        False  True\n",
       "Category                \n",
       "Altcoins        29     0\n",
       "Bitcoin          0    21\n",
       "Blockchain      32     3\n",
       "Defi             8    12\n",
       "Gaming          20     1\n",
       "NFT              2    20\n",
       "Others          20     0\n",
       "Regulations     17     2"
      ]
     },
     "execution_count": 15,
     "metadata": {},
     "output_type": "execute_result"
    }
   ],
   "source": [
    "pd.crosstab(\n",
    "    index=df_explode[\"Category\"],\n",
    "    columns=rule_categories_match,\n",
    ")"
   ]
  },
  {
   "cell_type": "code",
   "execution_count": 16,
   "metadata": {},
   "outputs": [],
   "source": [
    "# for cat in [\n",
    "#     \"blockchain\",\n",
    "#     \"bitcoin\",\n",
    "#     \"altcoin\",\n",
    "#     \"nft\",\n",
    "#     \"defi\",\n",
    "#     \"game\",\n",
    "#     \"regulation\",\n",
    "# ]:\n",
    "#     df[\"Title\"].apply(\n",
    "#         lambda x: cat in x\n",
    "#     )"
   ]
  },
  {
   "cell_type": "markdown",
   "metadata": {},
   "source": [
    "---"
   ]
  },
  {
   "cell_type": "code",
   "execution_count": 17,
   "metadata": {},
   "outputs": [],
   "source": [
    "X_train, X_test, y_train, y_test = train_test_split(\n",
    "    df[\"Title\"], df[\"Category\"],\n",
    "    test_size=0.3,\n",
    "    random_state=42,\n",
    "    # stratify=df[\"Category\"],\n",
    ")"
   ]
  },
  {
   "cell_type": "code",
   "execution_count": 18,
   "metadata": {},
   "outputs": [],
   "source": [
    "mlb = MultiLabelBinarizer()\n",
    "\n",
    "y_train_mlb = mlb.fit_transform(y_train)\n",
    "y_test_mlb = mlb.transform(y_test)"
   ]
  },
  {
   "cell_type": "code",
   "execution_count": 19,
   "metadata": {},
   "outputs": [
    {
     "data": {
      "text/plain": [
       "((112, 8), (48, 8))"
      ]
     },
     "execution_count": 19,
     "metadata": {},
     "output_type": "execute_result"
    }
   ],
   "source": [
    "y_train_mlb.shape, y_test_mlb.shape"
   ]
  },
  {
   "cell_type": "code",
   "execution_count": 20,
   "metadata": {},
   "outputs": [],
   "source": [
    "tokenizer = word_tokenize\n",
    "stemmer = PorterStemmer()\n",
    "\n",
    "def tokenize(text):\n",
    "    tokens = tokenizer(text)\n",
    "    stems = []\n",
    "    for item in tokens:\n",
    "        stems.append(stemmer.stem(item))\n",
    "    return stems"
   ]
  },
  {
   "cell_type": "code",
   "execution_count": 21,
   "metadata": {},
   "outputs": [],
   "source": [
    "model = Pipeline(\n",
    "    [\n",
    "        (\"tf-idf\", TfidfVectorizer(\n",
    "            min_df=0.01,\n",
    "            # tokenizer=tokenize,\n",
    "        )),\n",
    "        (\"logreg\", MultiOutputClassifier(\n",
    "            LogisticRegression(\n",
    "                class_weight=\"balanced\",\n",
    "                C=0.1,\n",
    "            ),\n",
    "        )),\n",
    "    ]\n",
    ")"
   ]
  },
  {
   "cell_type": "code",
   "execution_count": 22,
   "metadata": {},
   "outputs": [
    {
     "data": {
      "text/plain": [
       "Pipeline(steps=[('tf-idf', TfidfVectorizer(min_df=0.01)),\n",
       "                ('logreg',\n",
       "                 MultiOutputClassifier(estimator=LogisticRegression(C=0.1,\n",
       "                                                                    class_weight='balanced')))])"
      ]
     },
     "execution_count": 22,
     "metadata": {},
     "output_type": "execute_result"
    }
   ],
   "source": [
    "model.fit(X_train, y_train_mlb)"
   ]
  },
  {
   "cell_type": "code",
   "execution_count": 23,
   "metadata": {},
   "outputs": [],
   "source": [
    "y_train_pred = model.predict(X_train)\n",
    "y_test_pred = model.predict(X_test)"
   ]
  },
  {
   "cell_type": "code",
   "execution_count": 24,
   "metadata": {},
   "outputs": [
    {
     "name": "stdout",
     "output_type": "stream",
     "text": [
      "              precision    recall  f1-score   support\n",
      "\n",
      "    Altcoins       0.75      1.00      0.86        18\n",
      "     Bitcoin       0.86      0.92      0.89        13\n",
      "  Blockchain       0.81      0.88      0.84        24\n",
      "        Defi       0.88      1.00      0.94        15\n",
      "      Gaming       0.93      0.93      0.93        15\n",
      "         NFT       0.92      0.79      0.85        14\n",
      "      Others       0.74      0.93      0.82        15\n",
      " Regulations       0.76      0.93      0.84        14\n",
      "\n",
      "   micro avg       0.82      0.92      0.87       128\n",
      "   macro avg       0.83      0.92      0.87       128\n",
      "weighted avg       0.83      0.92      0.87       128\n",
      " samples avg       0.84      0.92      0.87       128\n",
      "\n"
     ]
    }
   ],
   "source": [
    "print(\n",
    "    classification_report(\n",
    "        y_true=y_train_mlb,\n",
    "        y_pred=y_train_pred,\n",
    "        target_names=mlb.classes_,\n",
    "        zero_division=0,\n",
    "    )\n",
    ")"
   ]
  },
  {
   "cell_type": "code",
   "execution_count": 25,
   "metadata": {},
   "outputs": [
    {
     "name": "stdout",
     "output_type": "stream",
     "text": [
      "              precision    recall  f1-score   support\n",
      "\n",
      "    Altcoins       0.44      0.36      0.40        11\n",
      "     Bitcoin       1.00      1.00      1.00         8\n",
      "  Blockchain       0.70      0.64      0.67        11\n",
      "        Defi       1.00      0.80      0.89         5\n",
      "      Gaming       1.00      0.33      0.50         6\n",
      "         NFT       0.89      1.00      0.94         8\n",
      "      Others       0.25      0.60      0.35         5\n",
      " Regulations       0.67      0.40      0.50         5\n",
      "\n",
      "   micro avg       0.67      0.64      0.66        59\n",
      "   macro avg       0.74      0.64      0.66        59\n",
      "weighted avg       0.73      0.64      0.66        59\n",
      " samples avg       0.65      0.71      0.66        59\n",
      "\n"
     ]
    }
   ],
   "source": [
    "print(\n",
    "    classification_report(\n",
    "        y_true=y_test_mlb,\n",
    "        y_pred=y_test_pred,\n",
    "        target_names=mlb.classes_,\n",
    "        zero_division=0,\n",
    "    )\n",
    ")"
   ]
  },
  {
   "cell_type": "code",
   "execution_count": 26,
   "metadata": {},
   "outputs": [
    {
     "data": {
      "text/plain": [
       "array([[[32,  5],\n",
       "        [ 7,  4]],\n",
       "\n",
       "       [[40,  0],\n",
       "        [ 0,  8]],\n",
       "\n",
       "       [[34,  3],\n",
       "        [ 4,  7]],\n",
       "\n",
       "       [[43,  0],\n",
       "        [ 1,  4]],\n",
       "\n",
       "       [[42,  0],\n",
       "        [ 4,  2]],\n",
       "\n",
       "       [[39,  1],\n",
       "        [ 0,  8]],\n",
       "\n",
       "       [[34,  9],\n",
       "        [ 2,  3]],\n",
       "\n",
       "       [[42,  1],\n",
       "        [ 3,  2]]])"
      ]
     },
     "execution_count": 26,
     "metadata": {},
     "output_type": "execute_result"
    }
   ],
   "source": [
    "multilabel_confusion_matrix(\n",
    "    y_true=y_test_mlb,\n",
    "    y_pred=y_test_pred,\n",
    ")"
   ]
  },
  {
   "cell_type": "markdown",
   "metadata": {},
   "source": [
    "---"
   ]
  },
  {
   "cell_type": "code",
   "execution_count": 27,
   "metadata": {},
   "outputs": [
    {
     "data": {
      "text/plain": [
       "['model/multilabel_binarizer.joblib']"
      ]
     },
     "execution_count": 27,
     "metadata": {},
     "output_type": "execute_result"
    }
   ],
   "source": [
    "joblib.dump(model, \"model/model_categorizer.joblib\")\n",
    "joblib.dump(mlb, \"model/multilabel_binarizer.joblib\")"
   ]
  },
  {
   "cell_type": "code",
   "execution_count": null,
   "metadata": {},
   "outputs": [],
   "source": []
  }
 ],
 "metadata": {
  "kernelspec": {
   "display_name": "Python 3.7.5 ('venv': venv)",
   "language": "python",
   "name": "python3"
  },
  "language_info": {
   "codemirror_mode": {
    "name": "ipython",
    "version": 3
   },
   "file_extension": ".py",
   "mimetype": "text/x-python",
   "name": "python",
   "nbconvert_exporter": "python",
   "pygments_lexer": "ipython3",
   "version": "3.7.5"
  },
  "orig_nbformat": 4,
  "vscode": {
   "interpreter": {
    "hash": "d423991c47cc31f459f1077f522dd2d3fed9a86ad83b09797aac18357e6caf8c"
   }
  }
 },
 "nbformat": 4,
 "nbformat_minor": 2
}
